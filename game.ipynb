{
 "cells": [
  {
   "cell_type": "code",
   "execution_count": 6,
   "metadata": {},
   "outputs": [],
   "source": [
    "import game_v2"
   ]
  },
  {
   "cell_type": "code",
   "execution_count": 10,
   "metadata": {},
   "outputs": [
    {
     "ename": "AttributeError",
     "evalue": "module 'game_v2' has no attribute 'score_game'",
     "output_type": "error",
     "traceback": [
      "\u001b[1;31m---------------------------------------------------------------------------\u001b[0m",
      "\u001b[1;31mAttributeError\u001b[0m                            Traceback (most recent call last)",
      "\u001b[1;32mc:\\Диск D\\Учеба\\IDE\\game.ipynb Cell 2'\u001b[0m in \u001b[0;36m<cell line: 1>\u001b[1;34m()\u001b[0m\n\u001b[1;32m----> <a href='vscode-notebook-cell:/c%3A/%D0%94%D0%B8%D1%81%D0%BA%20D/%D0%A3%D1%87%D0%B5%D0%B1%D0%B0/IDE/game.ipynb#ch0000004?line=0'>1</a>\u001b[0m game_v2\u001b[39m.\u001b[39;49mscore_game(game_v2\u001b[39m.\u001b[39mrandom_predict)\n",
      "\u001b[1;31mAttributeError\u001b[0m: module 'game_v2' has no attribute 'score_game'"
     ]
    }
   ],
   "source": [
    "game_v2.score_game(game_v2.random_predict)"
   ]
  }
 ],
 "metadata": {
  "kernelspec": {
   "display_name": "Python 3.8.10 64-bit",
   "language": "python",
   "name": "python3"
  },
  "language_info": {
   "codemirror_mode": {
    "name": "ipython",
    "version": 3
   },
   "file_extension": ".py",
   "mimetype": "text/x-python",
   "name": "python",
   "nbconvert_exporter": "python",
   "pygments_lexer": "ipython3",
   "version": "3.8.10"
  },
  "orig_nbformat": 4,
  "vscode": {
   "interpreter": {
    "hash": "ee9b84d1a426c63da3d349fa06fde91333dfd1ed8a7b91002ade05325e5e2117"
   }
  }
 },
 "nbformat": 4,
 "nbformat_minor": 2
}
